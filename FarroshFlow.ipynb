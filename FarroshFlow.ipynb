{
 "cells": [
  {
   "cell_type": "code",
   "execution_count": 1,
   "id": "ce3f4cd6",
   "metadata": {},
   "outputs": [],
   "source": [
    "import numpy as np\n",
    "class nn:\n",
    "    def __init__(self,layers):\n",
    "        self.layers = layers\n",
    "        self.weights = [np.random.rand(self.layers[i],self.layers[i+1]) for i in range(len(self.layers)-1)]\n",
    "        self.biases = [np.random.rand(1,self.layers[i+1]) for i in range(len(self.layers)-1)]\n",
    "    def get(self):\n",
    "        print('weights  ',[i.shape for i in self.weights])\n",
    "        print('biases  ',[i.shape for i in self.biases])\n",
    "    def sigmoid(self,x):\n",
    "        return 1 / (1+np.exp(-x))\n",
    "    def relu(self,x):\n",
    "        return np.maximum(0,x)\n",
    "    def relu_hosila(self,x):\n",
    "        return 1 if x.any()>0 else 0\n",
    "    def sigmoid_hosila(self,x):\n",
    "        return self.sigmoid(x)*(1-self.sigmoid(x))\n",
    "    def loss(self,y_pred,y):\n",
    "        return 2*(y_pred-y.T)/y.size\n",
    "    def loss_print(self,y_pred,y):\n",
    "        return ((y_pred-y)**2)/y.size\n",
    "    def forward(self,x):\n",
    "        F=x\n",
    "        for i in range(len(self.layers)-2):\n",
    "            F = self.relu(np.dot(F,self.weights[i]) + self.biases[i])\n",
    "        F = np.dot(F,self.weights[-1]) + self.biases[-1]\n",
    "        return F\n",
    "    def train(self,x,y,lr,epochs):\n",
    "        for epoch in range(epochs):\n",
    "            activations = [x]\n",
    "            for i in range(len(self.layers)-1):\n",
    "                activations.append(self.relu(np.dot(activations[-1], self.weights[i])+self.biases[i])) \n",
    "            loss = self.loss(activations[-1],y)\n",
    "            grads_w = []\n",
    "            grads_b = []\n",
    "            d_l = loss\n",
    "            for i in range(len(self.layers)-1,0,-1):\n",
    "                self.weights[i-1] -= lr * np.dot(activations[i-1].T,d_l)\n",
    "                self.biases[i-1] -= lr * np.sum(d_l , axis=0,keepdims=True)\n",
    "                d_l = np.dot(d_l , self.weights[i-1].T)  * self.relu_hosila(activations[i-1])\n",
    "                \n",
    "            if epoch%100==0:\n",
    "                print('epoch  - ', epoch,'\\t', 'accuracy : ', min(np.mean(activations[-1]),np.mean(y))/max(np.mean(activations[-1]),np.mean(y)))"
   ]
  },
  {
   "cell_type": "code",
   "execution_count": 2,
   "id": "edf43503",
   "metadata": {},
   "outputs": [
    {
     "name": "stdout",
     "output_type": "stream",
     "text": [
      "epoch  -  0 \t accuracy :  0.12294952145659212\n",
      "epoch  -  100 \t accuracy :  0.9431992922666786\n",
      "epoch  -  200 \t accuracy :  0.9440221755918086\n",
      "epoch  -  300 \t accuracy :  0.9440968264322745\n",
      "epoch  -  400 \t accuracy :  0.9441715824651844\n",
      "epoch  -  500 \t accuracy :  0.9442466314311944\n",
      "epoch  -  600 \t accuracy :  0.9443219613229051\n",
      "epoch  -  700 \t accuracy :  0.9443975604625632\n",
      "epoch  -  800 \t accuracy :  0.9444734175400734\n",
      "epoch  -  900 \t accuracy :  0.9445495216005652\n"
     ]
    }
   ],
   "source": [
    "model = nn([1,2,4,6,4,2,1])\n",
    "\n",
    "x = np.array([[1],[2],[3],[4],[5],[6]])\n",
    "y = np.array([[2,4,6,8,10,12]])\n",
    "\n",
    "model.train(x,y,0.00001,1000)"
   ]
  },
  {
   "cell_type": "code",
   "execution_count": null,
   "id": "9024c750",
   "metadata": {},
   "outputs": [],
   "source": []
  }
 ],
 "metadata": {
  "kernelspec": {
   "display_name": "keras",
   "language": "python",
   "name": "keras"
  },
  "language_info": {
   "codemirror_mode": {
    "name": "ipython",
    "version": 3
   },
   "file_extension": ".py",
   "mimetype": "text/x-python",
   "name": "python",
   "nbconvert_exporter": "python",
   "pygments_lexer": "ipython3",
   "version": "3.9.9"
  }
 },
 "nbformat": 4,
 "nbformat_minor": 5
}
